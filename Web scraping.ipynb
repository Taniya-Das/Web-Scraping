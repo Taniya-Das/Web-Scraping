{
 "cells": [
  {
   "cell_type": "markdown",
   "id": "fe8a98a6",
   "metadata": {},
   "source": [
    "# Web Scraping using Python"
   ]
  },
  {
   "cell_type": "markdown",
   "id": "bebcf897",
   "metadata": {},
   "source": [
    "## Scraping Static Pages"
   ]
  },
  {
   "cell_type": "markdown",
   "id": "151b48fc",
   "metadata": {},
   "source": [
    "### Reference: https://towardsdatascience.com/image-scraping-with-python-a96feda8af2d"
   ]
  },
  {
   "cell_type": "code",
   "execution_count": 2,
   "id": "20372b18",
   "metadata": {
    "scrolled": false
   },
   "outputs": [],
   "source": [
    "import requests\n",
    "\n",
    "wikipage = \"https://en.wikipedia.org/wiki/List_of_sovereign_states_and_dependent_territories_by_continent_(data_file)\"\n",
    "results = requests.get(wikipage)\n",
    "results.content;"
   ]
  },
  {
   "cell_type": "code",
   "execution_count": 3,
   "id": "0f16c0a3",
   "metadata": {
    "scrolled": false
   },
   "outputs": [],
   "source": [
    "from bs4 import BeautifulSoup\n",
    "soup = BeautifulSoup(results.content,'html.parser')\n",
    "\n",
    "#print(soup.prettify)\n",
    "soup.title;\n",
    "soup.script;\n",
    "soup.title.string;\n",
    "soup.p;\n",
    "soup.get_text();\n",
    "\n",
    "#find object with class wikitable sortable\n",
    "table = soup.find('table',{'class':'wikitable sortable'})"
   ]
  },
  {
   "cell_type": "markdown",
   "id": "2ae83788",
   "metadata": {},
   "source": [
    "The HTML \\\\\\<tr> tag refer to a row in an HTML table. Each \\<tr> tag can contain \\<th> tags that defines header and \\<td> tag that defines standard cells."
   ]
  },
  {
   "cell_type": "code",
   "execution_count": 4,
   "id": "641a7401",
   "metadata": {},
   "outputs": [],
   "source": [
    "#loop through all the rows and pull text \n",
    "\n",
    "#print(table.find_all('tr')[1:])\n",
    "#print(table.find_all('tr')[4].find_all('td')[4].get_text())\\\n",
    "new_table = []\n",
    "\n",
    "for row in table.find_all('tr')[1:]:\n",
    "    column_marker=0\n",
    "    columns = row.find_all('td')\n",
    "    \n",
    "    new_table.append([column.get_text() for column in columns])"
   ]
  },
  {
   "cell_type": "code",
   "execution_count": 12,
   "id": "17bf0216",
   "metadata": {},
   "outputs": [
    {
     "data": {
      "text/html": [
       "<div>\n",
       "<style scoped>\n",
       "    .dataframe tbody tr th:only-of-type {\n",
       "        vertical-align: middle;\n",
       "    }\n",
       "\n",
       "    .dataframe tbody tr th {\n",
       "        vertical-align: top;\n",
       "    }\n",
       "\n",
       "    .dataframe thead th {\n",
       "        text-align: right;\n",
       "    }\n",
       "</style>\n",
       "<table border=\"1\" class=\"dataframe\">\n",
       "  <thead>\n",
       "    <tr style=\"text-align: right;\">\n",
       "      <th></th>\n",
       "      <th>ContinentCode</th>\n",
       "      <th>Alpha2</th>\n",
       "      <th>Alpha3</th>\n",
       "      <th>PhoneCode</th>\n",
       "      <th>Name</th>\n",
       "    </tr>\n",
       "  </thead>\n",
       "  <tbody>\n",
       "    <tr>\n",
       "      <th>0</th>\n",
       "      <td>AS</td>\n",
       "      <td>AF</td>\n",
       "      <td>AFG</td>\n",
       "      <td>004</td>\n",
       "      <td>Afghanistan, Islamic Republic of</td>\n",
       "    </tr>\n",
       "    <tr>\n",
       "      <th>1</th>\n",
       "      <td>EU</td>\n",
       "      <td>AL</td>\n",
       "      <td>ALB</td>\n",
       "      <td>008</td>\n",
       "      <td>Albania, Republic of</td>\n",
       "    </tr>\n",
       "    <tr>\n",
       "      <th>2</th>\n",
       "      <td>AN</td>\n",
       "      <td>AQ</td>\n",
       "      <td>ATA</td>\n",
       "      <td>010</td>\n",
       "      <td>Antarctica (the territory South of 60 deg S)</td>\n",
       "    </tr>\n",
       "    <tr>\n",
       "      <th>3</th>\n",
       "      <td>AF</td>\n",
       "      <td>DZ</td>\n",
       "      <td>DZA</td>\n",
       "      <td>012</td>\n",
       "      <td>Algeria, People's Democratic Republic of</td>\n",
       "    </tr>\n",
       "    <tr>\n",
       "      <th>4</th>\n",
       "      <td>OC</td>\n",
       "      <td>AS</td>\n",
       "      <td>ASM</td>\n",
       "      <td>016</td>\n",
       "      <td>American Samoa</td>\n",
       "    </tr>\n",
       "    <tr>\n",
       "      <th>...</th>\n",
       "      <td>...</td>\n",
       "      <td>...</td>\n",
       "      <td>...</td>\n",
       "      <td>...</td>\n",
       "      <td>...</td>\n",
       "    </tr>\n",
       "    <tr>\n",
       "      <th>257</th>\n",
       "      <td>AS</td>\n",
       "      <td>YE</td>\n",
       "      <td>YEM</td>\n",
       "      <td>887</td>\n",
       "      <td>Yemen</td>\n",
       "    </tr>\n",
       "    <tr>\n",
       "      <th>258</th>\n",
       "      <td>AF</td>\n",
       "      <td>ZM</td>\n",
       "      <td>ZMB</td>\n",
       "      <td>894</td>\n",
       "      <td>Zambia, Republic of</td>\n",
       "    </tr>\n",
       "    <tr>\n",
       "      <th>259</th>\n",
       "      <td>AS</td>\n",
       "      <td>XD</td>\n",
       "      <td>null</td>\n",
       "      <td>null</td>\n",
       "      <td>United Nations Neutral Zone</td>\n",
       "    </tr>\n",
       "    <tr>\n",
       "      <th>260</th>\n",
       "      <td>AS</td>\n",
       "      <td>XS</td>\n",
       "      <td>null</td>\n",
       "      <td>null</td>\n",
       "      <td>Spratly Islands</td>\n",
       "    </tr>\n",
       "    <tr>\n",
       "      <th>261</th>\n",
       "      <td>OC</td>\n",
       "      <td>XX</td>\n",
       "      <td>null</td>\n",
       "      <td>null</td>\n",
       "      <td>Disputed Territory</td>\n",
       "    </tr>\n",
       "  </tbody>\n",
       "</table>\n",
       "<p>262 rows × 5 columns</p>\n",
       "</div>"
      ],
      "text/plain": [
       "    ContinentCode Alpha2 Alpha3 PhoneCode  \\\n",
       "0              AS     AF    AFG       004   \n",
       "1              EU     AL    ALB       008   \n",
       "2              AN     AQ    ATA       010   \n",
       "3              AF     DZ    DZA       012   \n",
       "4              OC     AS    ASM       016   \n",
       "..            ...    ...    ...       ...   \n",
       "257            AS     YE    YEM       887   \n",
       "258            AF     ZM    ZMB       894   \n",
       "259            AS     XD   null      null   \n",
       "260            AS     XS   null      null   \n",
       "261            OC     XX   null      null   \n",
       "\n",
       "                                             Name  \n",
       "0                Afghanistan, Islamic Republic of  \n",
       "1                            Albania, Republic of  \n",
       "2    Antarctica (the territory South of 60 deg S)  \n",
       "3        Algeria, People's Democratic Republic of  \n",
       "4                                  American Samoa  \n",
       "..                                            ...  \n",
       "257                                         Yemen  \n",
       "258                           Zambia, Republic of  \n",
       "259                   United Nations Neutral Zone  \n",
       "260                               Spratly Islands  \n",
       "261                            Disputed Territory  \n",
       "\n",
       "[262 rows x 5 columns]"
      ]
     },
     "execution_count": 12,
     "metadata": {},
     "output_type": "execute_result"
    }
   ],
   "source": [
    "import pandas as pd\n",
    "\n",
    "df = pd.DataFrame(new_table,columns=['ContinentCode','Alpha2','Alpha3','PhoneCode','Name'])\n",
    "df['Name']=df['Name'].str.replace('\\n','');\n",
    "df"
   ]
  }
 ],
 "metadata": {
  "kernelspec": {
   "display_name": "Python 3",
   "language": "python",
   "name": "python3"
  },
  "language_info": {
   "codemirror_mode": {
    "name": "ipython",
    "version": 3
   },
   "file_extension": ".py",
   "mimetype": "text/x-python",
   "name": "python",
   "nbconvert_exporter": "python",
   "pygments_lexer": "ipython3",
   "version": "3.8.2"
  }
 },
 "nbformat": 4,
 "nbformat_minor": 5
}
